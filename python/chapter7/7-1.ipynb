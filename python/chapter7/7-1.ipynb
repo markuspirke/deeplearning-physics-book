{
 "cells": [
  {
   "cell_type": "code",
   "execution_count": 2,
   "metadata": {},
   "outputs": [],
   "source": [
    "import numpy as np\n",
    "import matplotlib.pyplot as plt\n",
    "import torch\n",
    "from torch import nn\n",
    "import torch.nn.functional as F\n",
    "from torch.utils.data import Dataset, DataLoader"
   ]
  },
  {
   "cell_type": "code",
   "execution_count": 3,
   "metadata": {},
   "outputs": [
    {
     "name": "stdout",
     "output_type": "stream",
     "text": [
      "Using cpu device\n"
     ]
    }
   ],
   "source": [
    "\n",
    "device = (\n",
    "    \"cuda\"\n",
    "    if torch.cuda.is_available()\n",
    "    else \"mps\"\n",
    "    if torch.backends.mps.is_available()\n",
    "    else \"cpu\"\n",
    ")\n",
    "print(f\"Using {device} device\")\n",
    "\n",
    "torch.set_default_dtype(torch.float32)"
   ]
  },
  {
   "cell_type": "code",
   "execution_count": 282,
   "metadata": {},
   "outputs": [
    {
     "name": "stdout",
     "output_type": "stream",
     "text": [
      "(20000, 32, 32)\n"
     ]
    }
   ],
   "source": [
    "filename  = '../data/ising_data.npz'\n",
    "\n",
    "f = np.load(filename, allow_pickle=True)\n",
    "n_train = 20000\n",
    "Xtr, Xtest = f[\"C\"][:n_train], f[\"C\"][n_train:]\n",
    "print(Xtr.shape)\n",
    "# Xtr, Xtest = torch.tensor(Xtr, dtype=torch.float32), torch.tensor(Xtest, dtype=torch.float32)\n",
    "Xtr, Xtest = torch.Tensor(Xtr), torch.Tensor(Xtest) # using torch.Tensor instead of torch.tensor directly uses float32\n",
    "Ttr, Ttest = f[\"T\"][:n_train], f[\"T\"][n_train:]\n",
    "Ttr, Ttest = torch.Tensor(Ttr), torch.Tensor(Ttest)"
   ]
  },
  {
   "cell_type": "code",
   "execution_count": 15,
   "metadata": {},
   "outputs": [],
   "source": [
    "# class CustomDataset(Dataset):\n",
    "#     def __init__(self, filename, cat, first, last):\n",
    "#         self.file = np.load(filename, allow_pickle=True)\n",
    "#         self.Xdata = torch.tensor(self.file[cat][first:last], dtype=torch.float32) \n",
    "#         self.Ydata = torch.tensor(self.file[cat][first:last], dtype=torch.float32) "
   ]
  },
  {
   "cell_type": "code",
   "execution_count": 287,
   "metadata": {},
   "outputs": [
    {
     "data": {
      "image/png": "[encoded data removed]",
      "text/plain": [
       "<Figure size 640x480 with 6 Axes>"
      ]
     },
     "metadata": {},
     "output_type": "display_data"
    }
   ],
   "source": [
    "for i,j in enumerate(np.random.choice(n_train, 6)):\n",
    "    plt.subplot(2,3,i+1)\n",
    "    image = Xtr.detach().numpy()[j]\n",
    "    plot = plt.imshow(image)\n",
    "    plt.title(f\"T: {Ttr[j]:.2f}\")\n",
    "\n",
    "plt.tight_layout()\n",
    "plt.show()"
   ]
  },
  {
   "cell_type": "code",
   "execution_count": 146,
   "metadata": {},
   "outputs": [],
   "source": [
    "Tc = 2.27\n",
    "Ytr, Ytest = 1.0*F.one_hot(1*(Ttr > Tc)), 1.0*F.one_hot(1*(Ttest > Tc)) # meaning Unordered: [0, 1], Ordered [1, 0]"
   ]
  },
  {
   "cell_type": "code",
   "execution_count": 147,
   "metadata": {},
   "outputs": [],
   "source": [
    "class NN(nn.Module):\n",
    "    def __init__(self):\n",
    "        super().__init__()\n",
    "        self.flatten = nn.Flatten()\n",
    "        self.mlp = nn.Sequential(\n",
    "            nn.Linear(32*32, 500),\n",
    "            nn.ReLU(),\n",
    "            nn.Linear(500, 100),\n",
    "            nn.ReLU(),\n",
    "            nn.Linear(100, 2)\n",
    "        )\n",
    "\n",
    "    def forward(self, x):\n",
    "        x = self.flatten(x)\n",
    "        logits = self.mlp(x)\n",
    "        return logits"
   ]
  },
  {
   "cell_type": "code",
   "execution_count": 288,
   "metadata": {},
   "outputs": [],
   "source": [
    "torch.manual_seed(42)\n",
    "model = NN()\n",
    "optimizer = optimizer = torch.optim.Adam(model.parameters(), lr=1e-3)"
   ]
  },
  {
   "cell_type": "code",
   "execution_count": 290,
   "metadata": {},
   "outputs": [],
   "source": [
    "b_size = 64"
   ]
  },
  {
   "cell_type": "code",
   "execution_count": 291,
   "metadata": {},
   "outputs": [],
   "source": [
    "for i in range(1000):\n",
    "    idxs = torch.randint(0, len(Xtr), (b_size,))\n",
    "    logits = model(Xtr[idxs])\n",
    "    loss = F.cross_entropy(logits, Ytr[idxs])\n",
    "    optimizer.zero_grad()\n",
    "    loss.backward()\n",
    "    optimizer.step()\n"
   ]
  },
  {
   "cell_type": "code",
   "execution_count": 358,
   "metadata": {},
   "outputs": [
    {
     "name": "stdout",
     "output_type": "stream",
     "text": [
      "Accuracy: 0.9725\n"
     ]
    }
   ],
   "source": [
    "probs = F.softmax(model(Xtest), dim=1)\n",
    "Ypred = torch.multinomial(probs, 1).view(-1)\n",
    "Ypred = 1.0*F.one_hot(Ypred)\n",
    "print(\"Accuracy:\", sum(1.0*torch.eq(Ypred, Ytest))[0].item()/len(Xtest))"
   ]
  },
  {
   "cell_type": "code",
   "execution_count": 357,
   "metadata": {},
   "outputs": [
    {
     "name": "stdout",
     "output_type": "stream",
     "text": [
      "tensor([5837., 5837.])\n"
     ]
    }
   ],
   "source": [
    "print(sum(1.0*(torch.eq(Ytest, Ypred))))"
   ]
  },
  {
   "cell_type": "code",
   "execution_count": 338,
   "metadata": {},
   "outputs": [],
   "source": [
    "Ts = torch.arange(1.0, 3.5, 0.1)\n",
    "ps = [probs[Ttest == Ts[i]] for i in range(len(Ts))] \n",
    "Ys = [torch.multinomial(p, 1).view(-1) for p in ps]\n",
    "As = [sum(Ys[i] == 1*(Ts[i] > Tc).item()) for i in range(len(Ts))]"
   ]
  },
  {
   "cell_type": "code",
   "execution_count": 384,
   "metadata": {},
   "outputs": [],
   "source": [
    "acc = 1.0*(Ypred == Ytest)[:, 0]"
   ]
  },
  {
   "cell_type": "code",
   "execution_count": 385,
   "metadata": {},
   "outputs": [],
   "source": [
    "accs = [torch.mean(acc[Ttest == T]) for T in Ts]"
   ]
  },
  {
   "cell_type": "code",
   "execution_count": 389,
   "metadata": {},
   "outputs": [
    {
     "data": {
      "text/plain": [
       "<matplotlib.collections.LineCollection at 0x124ff1c50>"
      ]
     },
     "execution_count": 389,
     "metadata": {},
     "output_type": "execute_result"
    },
    {
     "data": {
      "image/png": "[encoded data removed]",
      "text/plain": [
       "<Figure size 640x480 with 1 Axes>"
      ]
     },
     "metadata": {},
     "output_type": "display_data"
    }
   ],
   "source": [
    "plt.scatter(Ts, accs)\n",
    "plt.vlines(Tc, 0.6, 1.0, color='black')"
   ]
  },
  {
   "cell_type": "code",
   "execution_count": null,
   "metadata": {},
   "outputs": [],
   "source": []
  }
 ],
 "metadata": {
  "kernelspec": {
   "display_name": "venv",
   "language": "python",
   "name": "python3"
  },
  "language_info": {
   "codemirror_mode": {
    "name": "ipython",
    "version": 3
   },
   "file_extension": ".py",
   "mimetype": "text/x-python",
   "name": "python",
   "nbconvert_exporter": "python",
   "pygments_lexer": "ipython3",
   "version": "3.11.2"
  },
  "orig_nbformat": 4
 },
 "nbformat": 4,
 "nbformat_minor": 2
}
