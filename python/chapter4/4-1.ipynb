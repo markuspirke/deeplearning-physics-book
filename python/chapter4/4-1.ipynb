{
 "cells": [
  {
   "cell_type": "code",
   "execution_count": 1,
   "metadata": {},
   "outputs": [],
   "source": [
    "import numpy as np\n",
    "import jax\n",
    "import jax.numpy as jnp\n",
    "from jax import nn\n",
    "from jax import random, device_put\n",
    "import matplotlib.pyplot as plt"
   ]
  },
  {
   "cell_type": "code",
   "execution_count": 2,
   "metadata": {},
   "outputs": [],
   "source": [
    "data = np.genfromtxt('../data/winequality-white.csv', delimiter=';', skip_header=1)\n",
    "data = device_put(data)"
   ]
  },
  {
   "cell_type": "code",
   "execution_count": 3,
   "metadata": {},
   "outputs": [],
   "source": [
    "Xtrain = data[:3000, :11]\n",
    "Ytrain = data[:3000, 11]\n",
    "\n",
    "Xtest = data[3000:, :11]\n",
    "Ytest = data[3000:, 11]\n",
    "\n",
    "names = [\"fixed acidity\", \"volatile acidity\", \"citric acid\", \"residual sugar\", \"chlorides\", \"free sulfur dioxide\", \"total sulfur dioxide\",\n",
    "\"density\", \"pH\", \"sulphates\", \"alcohol\", \"quality\"]"
   ]
  },
  {
   "cell_type": "code",
   "execution_count": 362,
   "metadata": {},
   "outputs": [
    {
     "name": "stdout",
     "output_type": "stream",
     "text": [
      "W1: (11, 50)\n",
      "W2: (50, 1)\n"
     ]
    }
   ],
   "source": [
    "# multilayer perceptron with one hidden layers\n",
    "# this has the following structure:\n",
    "# y = W2 * sigma(W1 * x + b1) + b2\n",
    "# lets assume we have input vectors of length 11, a hidden size of 20 and an output size of 1 \n",
    "# the output is the quality of a wine, which is a continous value, i.e we have a regeression problem\n",
    "n_in = 11\n",
    "n_hidden = 50\n",
    "n_out = 1\n",
    "# shapes of the weights and biases\n",
    "key = random.PRNGKey(42)\n",
    "# W1 shape (in, out) so (11 in, 20 out)\n",
    "W1 = random.normal(key, (n_in, n_hidden))*jnp.sqrt(2/n_in) # \n",
    "b1 = jnp.zeros(n_hidden)\n",
    "new_key, subkey = random.split(key)\n",
    "W2 = random.normal(new_key, (n_hidden, n_out)) * jnp.sqrt(2/n_hidden)\n",
    "b2 = jnp.zeros(n_out)\n",
    "\n",
    "print(\"W1:\", W1.shape)\n",
    "print(\"W2:\", W2.shape)"
   ]
  },
  {
   "cell_type": "code",
   "execution_count": 363,
   "metadata": {},
   "outputs": [],
   "source": [
    "# lets turn all we have also into JAX arrays\n",
    "jXtrain = device_put(Xtrain)\n",
    "jYtrain = device_put(Ytrain)\n",
    "jW1 = device_put(W1)\n",
    "jW2 = device_put(W2)\n",
    "jb1 = device_put(b1)\n",
    "jb2 = device_put(b2)"
   ]
  },
  {
   "cell_type": "code",
   "execution_count": 5,
   "metadata": {},
   "outputs": [
    {
     "name": "stdout",
     "output_type": "stream",
     "text": [
      "(50,)\n",
      "(5, 50)\n",
      "(50,)\n"
     ]
    }
   ],
   "source": [
    "print(jnp.dot(W1.T, Xtrain[0]).shape)\n",
    "# (20, 11) * (11,)\n",
    "# what happens which batched inputs?\n",
    "# W1 * Xbatch\n",
    "# (11, 20) * (32, 11) does not work, we take Xbatch * W1: (32, 11) * (11, 20)\n",
    "print(jnp.dot(Xtrain[:5], W1).shape)\n",
    "# this also works for a single input\n",
    "print(jnp.dot(Xtrain[0], W1).shape)"
   ]
  },
  {
   "cell_type": "code",
   "execution_count": 57,
   "metadata": {},
   "outputs": [
    {
     "name": "stdout",
     "output_type": "stream",
     "text": [
      "Forward pass: (5, 1)\n",
      "Loss:  3981.553\n",
      "[[2 3]\n",
      " [3 4]]\n"
     ]
    }
   ],
   "source": [
    "# forward pass\n",
    "def forward(x, W1, b1, W2, b2):\n",
    "    return jnp.dot(nn.relu(jnp.dot(x, W1) + b1), W2) + b2\n",
    "\n",
    "print(\"Forward pass:\", forward(Xtrain[:5], W1, b1, W2, b2).shape)\n",
    "\n",
    "def layer(x, W, b):\n",
    "    return jnp.dot(x, W) + b\n",
    "\n",
    "def loss(x, y, W1, b1, W2, b2):\n",
    "    return jnp.mean((forward(x, W1, b1, W2, b2) - y)**2)\n",
    "\n",
    "print(\"Loss: \", loss(Xtrain[0], Ytrain[0], W1, b1, W2, b2))\n",
    "\n",
    "def loss1(x, y, W, b):\n",
    "    return 1/2*jnp.sum((layer(x, W, b) - y)**2)\n",
    "\n",
    "y = jnp.dot(nn.relu(jnp.dot(Xtrain[:5], W1) + b1), W2) + b2\n",
    "jnp.array_equal(y, forward(Xtrain[:5], W1, b1, W2, b2))\n",
    "\n",
    "# (Nsamples, Nout) + (Nout) works!\n",
    "foo = np.array(([1, 1], [2, 2])) + np.array([1, 2])\n",
    "# what happens is that the second array is broadcasted to the first one\n",
    "# this works because numpy looks at the rightmost dimesions which would be 2 and 1 \n",
    "# and checks if they are equal or one of them is 1\n",
    "# in our case the second is 1\n",
    "# this would not work\n",
    "# np.array(([1, 1], [2, 2])) + np.array([1, 2, 3])\n",
    "print(foo)"
   ]
  },
  {
   "cell_type": "code",
   "execution_count": 9,
   "metadata": {},
   "outputs": [
    {
     "name": "stdout",
     "output_type": "stream",
     "text": [
      "(2, 2) (2,)\n",
      "2D Toy: True\n",
      "Wine Problem: True\n"
     ]
    }
   ],
   "source": [
    "# 2D example\n",
    "Wfoo = jnp.array(([1.0, 2.0], [3.0, 4.0]))\n",
    "bfoo = jnp.array([1.0, 2.0])\n",
    "xfoo = jnp.array([2.0, 2.0])\n",
    "yfoo = jnp.array([3.0, 3.0])\n",
    "# loss function without hidden layers\n",
    "dloss1 = jax.grad(loss1, argnums=(2, 3))\n",
    "dW, db = dloss1(xfoo, yfoo, Wfoo, bfoo)\n",
    "print(dW.shape, db.shape)\n",
    "\n",
    "# lets compare to analytical gradients\n",
    "dW_ana = np.zeros_like(Wfoo)\n",
    "for i in range(2):\n",
    "    for j in range(2):\n",
    "        dW_ana[i, j] = - (yfoo[j] - layer(xfoo, Wfoo, bfoo)[j]) * xfoo[i]\n",
    "\n",
    "print(\"2D Toy:\", jnp.array_equal(dW, device_put(dW_ana)))\n",
    "\n",
    "# in our case \n",
    "dW, db = dloss1(Xtrain[0], Ytrain[0], W1, b1)\n",
    "dW_ana = np.zeros_like(W1)\n",
    "for i in range(n_in):\n",
    "    for j in range(n_hidden):\n",
    "        dW_ana[i, j] = - (Ytrain[0] - layer(Xtrain[0], W1, b1)[j]) * Xtrain[0][i]\n",
    "\n",
    "print(\"Wine Problem:\", jnp.array_equal(dW, device_put(dW_ana)))"
   ]
  },
  {
   "cell_type": "code",
   "execution_count": 433,
   "metadata": {},
   "outputs": [],
   "source": [
    "def update(x, y, W1, b1, W2, b2, lr):\n",
    "    ypred = forward(x, W1, b1, W2, b2)\n",
    "    print(\"ypred: \", ypred.shape)\n",
    "    h1 = layer(x, W1, b1)\n",
    "    print(\"h1: \", h1.shape)\n",
    "    z1 = nn.relu(h1)\n",
    "    print(\"z1: \", z1.shape)\n",
    "    h2 = layer(z1, W2, b2)\n",
    "    print(\"h2: \", h2.shape)\n",
    "\n",
    "    dy = -2*(y - ypred)[0]\n",
    "    dW2 = dy*z1.T\n",
    "    db2 = dy*np.ones_like(b2)\n",
    "    dsigma = np.diag(np.heaviside(h1, 0.0)[0])\n",
    "    db1 = dy*np.dot(W2.T, dsigma).reshape(50,)\n",
    "    dW1 = np.outer(x, dy*np.dot(W2.T, dsigma))\n",
    "    # also possible\n",
    "    dW1 = np.dot(x.T, dy*np.dot(W2.T, dsigma))\n",
    "    # print(\"dW1\", dW1.shape)\n",
    "    # dW1 = np.dot(x.T, db1.reshape(1, 50))\n",
    "\n",
    "\n",
    "\n",
    "    # W1 = W1 - lr * dW1\n",
    "    # b1 = b1 - lr * db1\n",
    "    # W2 = W2 - lr * dW2\n",
    "    # b2 = b2 - lr * db2\n",
    "\n",
    "    return dW1, db1, dW2, db2\n",
    "\n",
    "    # dW1_ana = np.zeros_like(W1)\n",
    "    # for i in range(W1.shape[0]):\n",
    "    #     for j in range(W2.shape[1]):"
   ]
  },
  {
   "cell_type": "code",
   "execution_count": 434,
   "metadata": {},
   "outputs": [
    {
     "name": "stdout",
     "output_type": "stream",
     "text": [
      "ypred:  (1, 1)\n",
      "h1:  (1, 50)\n",
      "z1:  (1, 50)\n",
      "h2:  (1, 1)\n",
      "(50, 1)\n",
      "dW1 (11, 50) (11, 50)\n",
      "True\n",
      "db1: (50,) (50,)\n",
      "True\n",
      "dW2:  (50, 1) (50, 1)\n",
      "True\n",
      "db2:  (1,) (1,)\n",
      "True\n"
     ]
    }
   ],
   "source": [
    "dW1, db1, dW2, db2 = update(Xtrain[:1], Ytrain[:1], W1, b1, W2, b2, 0.1)\n",
    "loss(jXtrain[0], jYtrain[0], W1, b1, W2, b2)\n",
    "dloss = jax.grad(loss, argnums=(2, 3, 4, 5))\n",
    "jdW1, jdb1, jdW2, jdb2 = dloss(jXtrain[:1], jYtrain[:1], W1, b1, W2, b2)\n",
    "print(dW2.shape)\n",
    "print(\"dW1\", dW1.shape, jdW1.shape)\n",
    "print(jnp.array_equal(jdW1, device_put(dW1)))\n",
    "print(\"db1:\", db1.shape, jdb1.shape)\n",
    "print(jnp.array_equal(jdb1, device_put(db1)))\n",
    "print(\"dW2: \", dW2.shape, jdW2.shape)\n",
    "print(jnp.array_equal(jdW2, device_put(dW2)))\n",
    "print(\"db2: \", db2.shape, jdb2.shape)\n",
    "print(jnp.array_equal(jdb2, device_put(db2)))"
   ]
  },
  {
   "cell_type": "code",
   "execution_count": 315,
   "metadata": {},
   "outputs": [],
   "source": [
    "lossi = []"
   ]
  },
  {
   "cell_type": "code",
   "execution_count": 316,
   "metadata": {},
   "outputs": [],
   "source": [
    "for _ in range(1000):\n",
    "    idx = np.random.randint(0, 2999, 1)[0]\n",
    "    lossi.append(loss(Xtrain[idx:idx+1], Ytrain[idx:idx+1], W1, b1, W2, b2))\n",
    "    update(Xtrain[idx:idx+1], Ytrain[idx:idx+1], W1, b1, W2, b2, 1e-8)\n",
    "\n"
   ]
  },
  {
   "cell_type": "code",
   "execution_count": 317,
   "metadata": {},
   "outputs": [
    {
     "data": {
      "text/plain": [
       "[<matplotlib.lines.Line2D at 0x121410b10>]"
      ]
     },
     "execution_count": 317,
     "metadata": {},
     "output_type": "execute_result"
    },
    {
     "data": {
      "image/png": "[encoded data removed]",
      "text/plain": [
       "<Figure size 640x480 with 1 Axes>"
      ]
     },
     "metadata": {},
     "output_type": "display_data"
    }
   ],
   "source": [
    "plt.plot(lossi)"
   ]
  },
  {
   "cell_type": "code",
   "execution_count": 390,
   "metadata": {},
   "outputs": [
    {
     "data": {
      "text/plain": [
       "array([[1],\n",
       "       [2]])"
      ]
     },
     "execution_count": 390,
     "metadata": {},
     "output_type": "execute_result"
    }
   ],
   "source": [
    "xfoo = np.array([1, 2])\n",
    "np.outer(xfoo, np.array([1]))"
   ]
  },
  {
   "cell_type": "code",
   "execution_count": 364,
   "metadata": {},
   "outputs": [],
   "source": [
    "lr = 5e-5\n",
    "lossi = []"
   ]
  },
  {
   "cell_type": "code",
   "execution_count": 373,
   "metadata": {},
   "outputs": [],
   "source": [
    "for _ in range(10000):\n",
    "    idx = np.random.randint(0, 3000, 64)\n",
    "    lossi.append(loss(jXtrain[idx], jYtrain[idx], W1, b1, W2, b2))\n",
    "    jdW1, jdb1, jdW2, jdb2 = dloss(jXtrain[idx], jYtrain[idx], W1, b1, W2, b2)\n",
    "    W1 -= lr * jdW1\n",
    "    W2 -= lr * jdW2\n",
    "    b1 -= lr * jdb1\n",
    "    b2 -= lr * jdb2\n"
   ]
  },
  {
   "cell_type": "code",
   "execution_count": 374,
   "metadata": {},
   "outputs": [
    {
     "data": {
      "text/plain": [
       "Array(0.7893622, dtype=float32)"
      ]
     },
     "execution_count": 374,
     "metadata": {},
     "output_type": "execute_result"
    }
   ],
   "source": [
    "lossi[-1]"
   ]
  },
  {
   "cell_type": "code",
   "execution_count": 371,
   "metadata": {},
   "outputs": [],
   "source": [
    "Ypred = forward(Xtest, W1, b1, W2, b2)"
   ]
  },
  {
   "cell_type": "code",
   "execution_count": 372,
   "metadata": {},
   "outputs": [
    {
     "data": {
      "text/plain": [
       "(0.0, 10.0)"
      ]
     },
     "execution_count": 372,
     "metadata": {},
     "output_type": "execute_result"
    },
    {
     "data": {
      "image/png": "[encoded data removed]",
      "text/plain": [
       "<Figure size 640x480 with 1 Axes>"
      ]
     },
     "metadata": {},
     "output_type": "display_data"
    }
   ],
   "source": [
    "plt.scatter(Ypred, Ytest)\n",
    "plt.xlabel(\"Predicted\")\n",
    "plt.ylabel(\"True\")\n",
    "plt.xlim(0, 10)"
   ]
  },
  {
   "cell_type": "code",
   "execution_count": null,
   "metadata": {},
   "outputs": [],
   "source": []
  },
  {
   "cell_type": "code",
   "execution_count": 400,
   "metadata": {},
   "outputs": [],
   "source": [
    "xfoo = np.array([[1, 2], [3, 4]])\n",
    "bfoo = np.array([1, 1])"
   ]
  },
  {
   "cell_type": "code",
   "execution_count": 401,
   "metadata": {},
   "outputs": [
    {
     "data": {
      "text/plain": [
       "(2, 2)"
      ]
     },
     "execution_count": 401,
     "metadata": {},
     "output_type": "execute_result"
    }
   ],
   "source": [
    "xfoo.shape"
   ]
  },
  {
   "cell_type": "code",
   "execution_count": 402,
   "metadata": {},
   "outputs": [
    {
     "data": {
      "text/plain": [
       "(2,)"
      ]
     },
     "execution_count": 402,
     "metadata": {},
     "output_type": "execute_result"
    }
   ],
   "source": [
    "bfoo.shape"
   ]
  },
  {
   "cell_type": "code",
   "execution_count": 403,
   "metadata": {},
   "outputs": [
    {
     "data": {
      "text/plain": [
       "array([[2, 3],\n",
       "       [4, 5]])"
      ]
     },
     "execution_count": 403,
     "metadata": {},
     "output_type": "execute_result"
    }
   ],
   "source": [
    "xfoo + bfoo"
   ]
  },
  {
   "cell_type": "code",
   "execution_count": 427,
   "metadata": {},
   "outputs": [
    {
     "data": {
      "text/plain": [
       "array([[1, 2, 3],\n",
       "       [1, 2, 3]])"
      ]
     },
     "execution_count": 427,
     "metadata": {},
     "output_type": "execute_result"
    }
   ],
   "source": [
    "xfoo = np.array([1, 1]).reshape(1, 2)\n",
    "yfoo = np.array([1, 2, 3]).reshape(1, 3)\n",
    "np.outer(xfoo, yfoo)"
   ]
  },
  {
   "cell_type": "code",
   "execution_count": 428,
   "metadata": {},
   "outputs": [
    {
     "data": {
      "text/plain": [
       "array([[1, 2, 3],\n",
       "       [1, 2, 3]])"
      ]
     },
     "execution_count": 428,
     "metadata": {},
     "output_type": "execute_result"
    }
   ],
   "source": [
    "np.dot(xfoo.T, yfoo)"
   ]
  },
  {
   "cell_type": "code",
   "execution_count": null,
   "metadata": {},
   "outputs": [],
   "source": []
  }
 ],
 "metadata": {
  "kernelspec": {
   "display_name": "venv",
   "language": "python",
   "name": "python3"
  },
  "language_info": {
   "codemirror_mode": {
    "name": "ipython",
    "version": 3
   },
   "file_extension": ".py",
   "mimetype": "text/x-python",
   "name": "python",
   "nbconvert_exporter": "python",
   "pygments_lexer": "ipython3",
   "version": "3.11.2"
  },
  "orig_nbformat": 4
 },
 "nbformat": 4,
 "nbformat_minor": 2
}
