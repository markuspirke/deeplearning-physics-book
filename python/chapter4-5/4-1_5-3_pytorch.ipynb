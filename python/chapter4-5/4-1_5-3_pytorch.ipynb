{
 "cells": [
  {
   "cell_type": "code",
   "execution_count": 1,
   "metadata": {},
   "outputs": [],
   "source": [
    "import numpy as np\n",
    "import matplotlib.pyplot as plt\n",
    "import torch\n",
    "from torch import nn\n",
    "import torch.nn.functional as F\n",
    "from torch.utils.data import Dataset, DataLoader"
   ]
  },
  {
   "cell_type": "code",
   "execution_count": 2,
   "metadata": {},
   "outputs": [
    {
     "name": "stdout",
     "output_type": "stream",
     "text": [
      "Using cpu device\n"
     ]
    }
   ],
   "source": [
    "device = (\n",
    "    \"cuda\"\n",
    "    if torch.cuda.is_available()\n",
    "    else \"mps\"\n",
    "    if torch.backends.mps.is_available()\n",
    "    else \"cpu\"\n",
    ")\n",
    "print(f\"Using {device} device\")\n",
    "\n",
    "torch.set_default_dtype(torch.float32)"
   ]
  },
  {
   "cell_type": "code",
   "execution_count": 3,
   "metadata": {},
   "outputs": [],
   "source": [
    "filename = '../data/winequality-white.csv'"
   ]
  },
  {
   "cell_type": "code",
   "execution_count": 20,
   "metadata": {},
   "outputs": [],
   "source": [
    "class CustomDataset(Dataset):\n",
    "    def __init__(self, filename, first, last):\n",
    "        self.data = torch.tensor(np.genfromtxt(filename, delimiter=';', skip_header=1)[first:last], dtype=torch.float32) # use None if till last element\n",
    "    \n",
    "    def __len__(self):\n",
    "        return len(self.data)\n",
    "    \n",
    "    def __getitem__(self, idx):\n",
    "        return self.data[idx, :11], self.data[idx, 11]"
   ]
  },
  {
   "cell_type": "code",
   "execution_count": 64,
   "metadata": {},
   "outputs": [
    {
     "ename": "SyntaxError",
     "evalue": "invalid syntax (1289461151.py, line 1)",
     "output_type": "error",
     "traceback": [
      "\u001b[0;36m  Cell \u001b[0;32mIn[64], line 1\u001b[0;36m\u001b[0m\n\u001b[0;31m    len(range(3001:None))\u001b[0m\n\u001b[0m                  ^\u001b[0m\n\u001b[0;31mSyntaxError\u001b[0m\u001b[0;31m:\u001b[0m invalid syntax\n"
     ]
    }
   ],
   "source": [
    "len(range())"
   ]
  },
  {
   "cell_type": "code",
   "execution_count": 156,
   "metadata": {},
   "outputs": [],
   "source": [
    "b_size = 4\n",
    "train_data = CustomDataset(filename, 0, 3000)\n",
    "test_data = CustomDataset(filename, 3001, None)\n",
    "train_dataloader = DataLoader(train_data, batch_size=b_size, shuffle=True, drop_last=True)\n",
    "test_dataloader = DataLoader(test_data, batch_size=len(test_data), shuffle=True)\n",
    "Xtest, Ytest = next(iter(test_dataloader))"
   ]
  },
  {
   "cell_type": "code",
   "execution_count": 157,
   "metadata": {},
   "outputs": [],
   "source": [
    "class NN(nn.Module):\n",
    "    def __init__(self):\n",
    "        super().__init__()\n",
    "        self.mlp = nn.Sequential(\n",
    "            nn.Linear(11, 50),\n",
    "            nn.ReLU(),\n",
    "            nn.Linear(50, 1),\n",
    "        )\n",
    "    \n",
    "    def forward(self, x):\n",
    "        return self.mlp(x).view(-1)\n"
   ]
  },
  {
   "cell_type": "code",
   "execution_count": 158,
   "metadata": {},
   "outputs": [],
   "source": [
    "model = NN()\n",
    "optimizer = torch.optim.Adam(model.parameters(), lr=5e-5)\n",
    "# optimizer = torch.optim.SGD(model.parameters(), lr=1e-4, momentum=0.0)\n",
    "loss_fn = nn.MSELoss()"
   ]
  },
  {
   "cell_type": "code",
   "execution_count": 159,
   "metadata": {},
   "outputs": [],
   "source": [
    "loss_train = [] \n",
    "loss_test = []\n",
    "epochs = 150"
   ]
  },
  {
   "cell_type": "code",
   "execution_count": 160,
   "metadata": {},
   "outputs": [
    {
     "name": "stdout",
     "output_type": "stream",
     "text": [
      "Epoch:0/150: 134.4278924790919\n",
      "Testloss: 4.709409713745117\n",
      "Epoch:10/150: 0.7275797982911268\n",
      "Testloss: 0.6036234498023987\n",
      "Epoch:20/150: 0.6703352822959423\n",
      "Testloss: 0.5759178996086121\n",
      "Epoch:30/150: 0.6435696590120594\n",
      "Testloss: 0.5984406471252441\n",
      "Epoch:40/150: 0.623016799390316\n",
      "Testloss: 0.5521013140678406\n",
      "Epoch:50/150: 0.6162471341192722\n",
      "Testloss: 0.5816754102706909\n",
      "Epoch:60/150: 0.6055939343894522\n",
      "Testloss: 0.5908671021461487\n",
      "Epoch:70/150: 0.5947153967519602\n",
      "Testloss: 0.5605717301368713\n",
      "Epoch:80/150: 0.587857859544456\n",
      "Testloss: 0.5801915526390076\n",
      "Epoch:90/150: 0.5862871151591341\n",
      "Testloss: 0.5912454724311829\n",
      "Epoch:100/150: 0.5813813696031769\n",
      "Testloss: 0.5497305393218994\n",
      "Epoch:110/150: 0.5785521975941956\n",
      "Testloss: 0.564838171005249\n",
      "Epoch:120/150: 0.578428006576995\n",
      "Testloss: 0.5813362002372742\n",
      "Epoch:130/150: 0.5792793353224794\n",
      "Testloss: 0.5525214076042175\n",
      "Epoch:140/150: 0.5776092816491921\n",
      "Testloss: 0.5469186305999756\n"
     ]
    }
   ],
   "source": [
    "for epoch in range(epochs):\n",
    "    lossi = []\n",
    "    for i, (X, y) in enumerate(train_dataloader):\n",
    "        ypred = model(X)\n",
    "        loss = loss_fn(ypred, y)\n",
    "        loss.backward()\n",
    "        optimizer.step()\n",
    "        optimizer.zero_grad()\n",
    "        lossi.append(loss.item())\n",
    "\n",
    "    if epoch % 10 == 0:\n",
    "        print(f\"Epoch:{epoch}/{epochs}: {sum(lossi)/len(lossi)}\")\n",
    "        with torch.no_grad():\n",
    "            ypred_test = model(Xtest)\n",
    "        print(f\"Testloss: {loss_fn(ypred_test, Ytest)}\")"
   ]
  },
  {
   "cell_type": "code",
   "execution_count": 161,
   "metadata": {},
   "outputs": [
    {
     "data": {
      "text/plain": [
       "Text(0.5, 1.0, 'Correlation: 0.521767481819228')"
      ]
     },
     "execution_count": 161,
     "metadata": {},
     "output_type": "execute_result"
    },
    {
     "data": {
      "image/png": "[encoded data removed]",
      "text/plain": [
       "<Figure size 640x480 with 1 Axes>"
      ]
     },
     "metadata": {},
     "output_type": "display_data"
    }
   ],
   "source": [
    "Ypred = model(Xtest)\n",
    "cctest = np.corrcoef(Ypred.detach().numpy(), Ytest.detach().numpy())[0, 1]\n",
    "plt.scatter(Ypred.detach().numpy(), Ytest.detach().numpy())\n",
    "plt.xlabel(\"Predicted\")\n",
    "plt.ylabel(\"True\")\n",
    "plt.title(f\"Correlation: {cctest}\")"
   ]
  },
  {
   "cell_type": "code",
   "execution_count": 276,
   "metadata": {},
   "outputs": [
    {
     "data": {
      "text/plain": [
       "array([[6.109742 ],\n",
       "       [5.9030733],\n",
       "       [6.456876 ],\n",
       "       ...,\n",
       "       [5.3361454],\n",
       "       [6.584468 ],\n",
       "       [6.2355466]], dtype=float32)"
      ]
     },
     "execution_count": 276,
     "metadata": {},
     "output_type": "execute_result"
    }
   ],
   "source": [
    "Ypred.detach().numpy()"
   ]
  },
  {
   "cell_type": "code",
   "execution_count": null,
   "metadata": {},
   "outputs": [],
   "source": []
  }
 ],
 "metadata": {
  "kernelspec": {
   "display_name": "venv",
   "language": "python",
   "name": "python3"
  },
  "language_info": {
   "codemirror_mode": {
    "name": "ipython",
    "version": 3
   },
   "file_extension": ".py",
   "mimetype": "text/x-python",
   "name": "python",
   "nbconvert_exporter": "python",
   "pygments_lexer": "ipython3",
   "version": "3.11.2"
  },
  "orig_nbformat": 4
 },
 "nbformat": 4,
 "nbformat_minor": 2
}
